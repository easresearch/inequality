{
 "cells": [
  {
   "cell_type": "markdown",
   "id": "88ee3324",
   "metadata": {},
   "source": [
    "***Program: Gini computation method***\n",
    "\n",
    "**Last modified: July 18 2023**"
   ]
  },
  {
   "cell_type": "markdown",
   "id": "87b09e6b",
   "metadata": {},
   "source": [
    "# Load libraries"
   ]
  },
  {
   "cell_type": "code",
   "execution_count": null,
   "id": "128ac1cd",
   "metadata": {},
   "outputs": [],
   "source": [
    "import pandas as pd\n",
    "import numpy as np\n",
    "import matplotlib.pyplot as plt\n",
    "import seaborn as sns\n",
    "from quantecon import inequality\n",
    "from quantecon import gini_coefficient"
   ]
  },
  {
   "cell_type": "markdown",
   "id": "fc3edf21",
   "metadata": {},
   "source": [
    "**Gini computation method**\n",
    "\n",
    "*Gini*\n",
    "\n",
    "G = 1 - 2 * ∑[(i - 1) * Xi] / (n * ∑Xi)\n",
    "\n",
    "Where: X = Wealth i represents the rank of the observation (1 to n) Xi represents the value of the variable X at rank i ∑ denotes the summation operator, adding up the values for all observations\n",
    "\n",
    "**References:**\n",
    "The International Wealth Index (IWI)is used for comparing the performance of societies with regard to wealth, inequality and poverty.\n",
    "https://pip.worldbank.org/home\n",
    "https://globaldatalab.org/iwi/computing/\n",
    "https://python.quantecon.org/wealth_dynamics.html\n",
    "https://www.nature.com/articles/s41599-021-00948-x"
   ]
  },
  {
   "cell_type": "markdown",
   "id": "56c05a54",
   "metadata": {},
   "source": [
    "# Overall Gini"
   ]
  },
  {
   "cell_type": "code",
   "execution_count": null,
   "id": "18ecc44c",
   "metadata": {},
   "outputs": [],
   "source": [
    "# Calculate overall Gini coefficient\n",
    "overall_gini = inequality.gini_coefficient(ind_dhs_2015['wealthindex'].values)\n",
    "\n",
    "# Calculate overall Lorenz curve\n",
    "sort_data = ind_dhs_2015.sort_values(by='wealthindex')\n",
    "cum_share = sort_data['wealthindex'].cumsum() / sort_data['wealthindex'].sum()\n",
    "percent = (1 + sort_data.reset_index().index) / len(ind_dhs_2015)\n",
    "\n",
    "# Create Lorenz curve plot\n",
    "plt.figure(figsize=(10, 8))\n",
    "plt.plot(percent, cum_share, label='Overall')\n",
    "\n",
    "# Add diagonal line representing perfect equality\n",
    "plt.plot([0, 1], [0, 1], linestyle='--', color='red', label='Perfect Equality')\n",
    "\n",
    "plt.xlabel('', fontsize=16)\n",
    "plt.ylabel('', fontsize=22)\n",
    "plt.title('Lorenz Curve and Overall Gini (DHS 2015-16)',fontdict={'fontsize': 22, 'fontweight': 'bold'})\n",
    "\n",
    "plt.xticks(fontsize=14)\n",
    "plt.yticks(fontsize=14)\n",
    "\n",
    "# Add overall Gini coefficient to the plot\n",
    "plt.text(0.6, 0.1, f'Overall Gini: {overall_gini * 100:.2f}', fontsize=18, transform=plt.gca().transAxes)\n",
    "\n",
    "plt.legend(fontsize=16)\n",
    "\n",
    "plt.show()"
   ]
  },
  {
   "cell_type": "markdown",
   "id": "64b2290e",
   "metadata": {},
   "source": [
    "# Cluster level Gini"
   ]
  },
  {
   "cell_type": "code",
   "execution_count": null,
   "id": "4ebf6d31",
   "metadata": {},
   "outputs": [],
   "source": [
    "# Calculate Gini coefficient for each cluster\n",
    "gini_by_ch = {}\n",
    "groups = ind_dhs_2015['ch_id'].unique()\n",
    "for group in groups:\n",
    "    subset_data = ind_dhs_2015[ind_dhs_2015['ch_id'] == group]\n",
    "    gini = inequality.gini_coefficient(subset_data['wealthindex'].values)\n",
    "    gini_by_ch[group] = gini\n",
    "\n",
    "# Save Gini coefficients to CSV\n",
    "gini_ch_df = pd.DataFrame({'Group': list(gini_by_ch.keys()), 'Gini': list(gini_by_ch.values())})\n",
    "gini_ch_df.to_csv('gini_dhs_2015.csv', index=False)"
   ]
  }
 ],
 "metadata": {
  "kernelspec": {
   "display_name": "Python 3 (ipykernel)",
   "language": "python",
   "name": "python3"
  },
  "language_info": {
   "codemirror_mode": {
    "name": "ipython",
    "version": 3
   },
   "file_extension": ".py",
   "mimetype": "text/x-python",
   "name": "python",
   "nbconvert_exporter": "python",
   "pygments_lexer": "ipython3",
   "version": "3.11.5"
  }
 },
 "nbformat": 4,
 "nbformat_minor": 5
}
