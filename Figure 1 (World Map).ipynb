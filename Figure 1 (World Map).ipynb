{
 "cells": [
  {
   "cell_type": "code",
   "execution_count": null,
   "id": "63ec67d4",
   "metadata": {},
   "outputs": [],
   "source": [
    "import geopandas as gpd\n",
    "import matplotlib.pyplot as plt\n",
    "import matplotlib.colors as mcolors\n",
    "\n",
    "# Read the shapefile\n",
    "shapefile_path = \"world_gini_1.shp\" \n",
    "gdf = gpd.read_file(shapefile_path, encoding='utf-8')\n",
    "\n",
    "# Create a custom colormap that assigns gray to count=0\n",
    "def custom_color(row):\n",
    "    if row['count'] == 0:\n",
    "        return 'gray'\n",
    "    else:\n",
    "        return None  \n",
    "\n",
    "gdf['color'] = gdf.apply(custom_color, axis=1)\n",
    "\n",
    "# Plot the choropleth map without boundaries between countries\n",
    "fig, ax = plt.subplots(figsize=(8, 5)) \n",
    "\n",
    "# Plot polygons with count > 0 using Blues_r colormap\n",
    "gdf[gdf['count'] > 0].plot(column='count', categorical=False, legend=False, ax=ax, cmap='Blues_r', edgecolor='none', linewidth=0)\n",
    "\n",
    "# Plot polygons with count == 0 in gray\n",
    "gdf[gdf['count'] == 0].plot(ax=ax, color='gray', edgecolor='none', linewidth=0)\n",
    "\n",
    "# Remove latitude and longitude axes\n",
    "ax.set_axis_off()\n",
    "\n",
    "# Set the title blanl\n",
    "plt.title('')\n",
    "\n",
    "# Create a colorbar for non-zero values\n",
    "cbar = plt.colorbar(ax.collections[0], ax=ax, orientation='horizontal', fraction=0.04, pad=0)  # Adjust fraction and pad for position\n",
    "#cbar.set_label(fontsize=10)\n",
    "\n",
    "# Adjust the colorbar position to be in the middle\n",
    "cbar.ax.set_position([0.4, 0.08, 0.4, 0.03])  # Adjust these values as needed to center the colorbar below the plot\n",
    "\n",
    "# Adjust layout and spacing\n",
    "plt.tight_layout()\n",
    "\n",
    "# Save the plot as a publication-quality image with high DPI and tight bounding box\n",
    "plt.savefig('world_gini_plot.tif', dpi=300, bbox_inches='tight')\n",
    "\n",
    "# Show the plot\n",
    "plt.show()\n"
   ]
  }
 ],
 "metadata": {
  "kernelspec": {
   "display_name": "Python 3 (ipykernel)",
   "language": "python",
   "name": "python3"
  },
  "language_info": {
   "codemirror_mode": {
    "name": "ipython",
    "version": 3
   },
   "file_extension": ".py",
   "mimetype": "text/x-python",
   "name": "python",
   "nbconvert_exporter": "python",
   "pygments_lexer": "ipython3",
   "version": "3.11.5"
  }
 },
 "nbformat": 4,
 "nbformat_minor": 5
}
